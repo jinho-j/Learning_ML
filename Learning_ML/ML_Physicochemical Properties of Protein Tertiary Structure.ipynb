{
 "cells": [
  {
   "cell_type": "code",
   "execution_count": 4,
   "metadata": {},
   "outputs": [
    {
     "name": "stdout",
     "output_type": "stream",
     "text": [
      "1Mean Absolute Error: 1.6268631048886204\n",
      "1Mean Squared Error: 5.823993199890641\n",
      "1Root Mean Squared Error: 2.4132950917553866\n",
      "\n",
      "2Mean Absolute Error: 1.6316325996314403\n",
      "2Mean Squared Error: 5.9681939988387835\n",
      "2Root Mean Squared Error: 2.4429887430847455\n"
     ]
    }
   ],
   "source": [
    "import tensorflow as tf\n",
    "import matplotlib.pyplot as plt\n",
    "import numpy as np\n",
    "import pandas as pd\n",
    "from sklearn import preprocessing\n",
    "import sklearn.metrics as metrics\n",
    "from sklearn.preprocessing import MinMaxScaler\n",
    "import seaborn as seabornInstance \n",
    "from math import sqrt\n",
    "\n",
    "xy = np.loadtxt('CASP.csv', delimiter = ',')\n",
    "x_data = xy[:, 0:-1]\n",
    "train_x_data = preprocessing.scale(x_data)\n",
    "train_y_data = xy[:, [-1]]\n",
    "\n",
    "\n",
    "testxy = np.loadtxt('Test_CASP.csv', delimiter = ',')\n",
    "test_x_data = preprocessing.scale(testxy[:, 0:-1])\n",
    "test_y_data = testxy[:, [-1]]\n",
    "\n",
    "#make sure the shape and data are OK\n",
    "# print(train_x_data)\n",
    "# print(train_y_data)\n",
    "# print(test_x_data)\n",
    "# print(test_y_data)\n",
    "\n",
    "\n",
    "# plt.figure(figsize=(15,10))\n",
    "# plt.tight_layout()\n",
    "# seabornInstance.distplot(train_y_data)\n",
    "\n",
    "# plt.scatter(train_x_data[:, 4:5], train_y_data,  color='black')\n",
    "# plt.plot(diabetes_X_test, diabetes_y_pred, color='blue', linewidth=3)\n",
    "# plt.xticks(())\n",
    "# plt.yticks(())\n",
    "# plt.show()\n",
    "\n",
    "X = tf.placeholder(tf.float32, shape = [None, 9])\n",
    "Y = tf.placeholder(tf.float32, shape = [None, 1])\n",
    "\n",
    "W = tf.Variable(tf.random_normal([9,1]), name = 'weight')\n",
    "b = tf.Variable(tf.random_normal([1]), name = 'bias')\n",
    "\n",
    "hypothesis = tf.matmul(X, W) + b\n",
    "cost = tf.reduce_mean(tf.square(hypothesis - Y)) + (0.001 * tf.reduce_sum(tf.square(W)))\n",
    "optimizer = tf.train.GradientDescentOptimizer(learning_rate = 0.1)\n",
    "train = optimizer.minimize(cost)\n",
    "\n",
    "\n",
    "sess = tf.Session()\n",
    "sess.run(tf.global_variables_initializer())\n",
    "\n",
    "for step in range(5001) : \n",
    "    cost_val, hy_val, _= sess.run([cost, hypothesis, train], feed_dict= {X: train_x_data,Y: train_y_data})\n",
    "#     if step %1000 ==0:\n",
    "#         print(step, \"Cost: \", cost_val, \"\\nPrediction: \\n\", hy_val)\n",
    "\n",
    "y_predicted = sess.run(hypothesis, feed_dict = {X:test_x_data})\n",
    "y_predict = sess.run(hypothesis, feed_dict = {X:train_x_data})\n",
    "\n",
    "print('1Mean Absolute Error:', metrics.mean_absolute_error(train_y_data, y_predict))\n",
    "print('1Mean Squared Error:', metrics.mean_squared_error(train_y_data, y_predict))\n",
    "print('1Root Mean Squared Error:', np.sqrt(metrics.mean_squared_error(train_y_data, y_predict)))\n",
    "print()\n",
    "print('2Mean Absolute Error:', metrics.mean_absolute_error(test_y_data, y_predicted))\n",
    "print('2Mean Squared Error:', metrics.mean_squared_error(test_y_data, y_predicted))\n",
    "print('2Root Mean Squared Error:', np.sqrt(metrics.mean_squared_error(test_y_data, y_predicted)))"
   ]
  },
  {
   "cell_type": "code",
   "execution_count": 2,
   "metadata": {},
   "outputs": [
    {
     "name": "stdout",
     "output_type": "stream",
     "text": [
      "Mean Absolute Error: 1.6335560389713724\n",
      "Mean Squared Error: 5.964835818946767\n",
      "Root Mean Squared Error: 2.4423013366386153\n"
     ]
    }
   ],
   "source": [
    "import pandas as pd  \n",
    "import numpy as np  \n",
    "import matplotlib.pyplot as plt  \n",
    "import seaborn as seabornInstance \n",
    "from sklearn.model_selection import train_test_split \n",
    "from sklearn.linear_model import LinearRegression\n",
    "from sklearn.linear_model import Ridge\n",
    "from sklearn import metrics\n",
    "%matplotlib inline\n",
    "\n",
    "xy = np.loadtxt('CASP.csv', delimiter = ',')\n",
    "x_data = xy[:, 0:-1]\n",
    "train_x_data = preprocessing.scale(x_data)\n",
    "train_y_data = xy[:, [-1]]\n",
    "\n",
    "\n",
    "testxy = np.loadtxt('Test_CASP.csv', delimiter = ',')\n",
    "test_x_data = preprocessing.scale(testxy[:, 0:-1])\n",
    "test_y_data = testxy[:, [-1]]\n",
    "\n",
    "ridgeReg = Ridge(alpha = 1e-5)\n",
    "ridgeReg.fit(train_x_data,train_y_data)\n",
    "\n",
    "y_pred =ridgeReg.predict(test_x_data)\n",
    "\n",
    "print('Mean Absolute Error:', metrics.mean_absolute_error(test_y_data, y_pred))  \n",
    "print('Mean Squared Error:', metrics.mean_squared_error(test_y_data, y_pred))  \n",
    "print('Root Mean Squared Error:', np.sqrt(metrics.mean_squared_error(test_y_data, y_pred)))"
   ]
  },
  {
   "cell_type": "code",
   "execution_count": 3,
   "metadata": {},
   "outputs": [
    {
     "name": "stdout",
     "output_type": "stream",
     "text": [
      "Mean Absolute Error: 1.6330054582185085\n",
      "Mean Squared Error: 5.963887580773765\n",
      "Root Mean Squared Error: 2.4421072009176346\n"
     ]
    },
    {
     "name": "stderr",
     "output_type": "stream",
     "text": [
      "/home/jinho/anaconda3/envs/test/lib/python3.7/site-packages/sklearn/linear_model/_coordinate_descent.py:476: ConvergenceWarning: Objective did not converge. You might want to increase the number of iterations. Duality gap: 91293.18398692894, tolerance: 114.21659513204601\n",
      "  positive)\n"
     ]
    }
   ],
   "source": [
    "import tensorflow as tf\n",
    "import pandas as pd  \n",
    "import numpy as np  \n",
    "import matplotlib.pyplot as plt  \n",
    "import seaborn as seabornInstance \n",
    "from sklearn.model_selection import train_test_split \n",
    "from sklearn.linear_model import Lasso\n",
    "from sklearn import metrics\n",
    "from sklearn import preprocessing\n",
    "%matplotlib inline\n",
    "\n",
    "xy = np.loadtxt('CASP.csv', delimiter = ',')\n",
    "x_data = xy[:, 0:-1]\n",
    "train_x_data = preprocessing.scale(x_data)\n",
    "train_y_data = xy[:, [-1]]\n",
    "\n",
    "testxy = np.loadtxt('Test_CASP.csv', delimiter = ',')\n",
    "test_x_data = preprocessing.scale(testxy[:, 0:-1])\n",
    "test_y_data = testxy[:, [-1]]\n",
    "\n",
    "lassoReg = Lasso(alpha=1e-5)\n",
    "lassoReg.fit(train_x_data ,train_y_data)\n",
    "\n",
    "y_pred =lassoReg.predict(test_x_data)\n",
    "\n",
    "print('Mean Absolute Error:', metrics.mean_absolute_error(test_y_data, y_pred))  \n",
    "print('Mean Squared Error:', metrics.mean_squared_error(test_y_data, y_pred))  \n",
    "print('Root Mean Squared Error:', np.sqrt(metrics.mean_squared_error(test_y_data, y_pred)))"
   ]
  }
 ],
 "metadata": {
  "kernelspec": {
   "display_name": "Python 3",
   "language": "python",
   "name": "python3"
  },
  "language_info": {
   "codemirror_mode": {
    "name": "ipython",
    "version": 3
   },
   "file_extension": ".py",
   "mimetype": "text/x-python",
   "name": "python",
   "nbconvert_exporter": "python",
   "pygments_lexer": "ipython3",
   "version": "3.7.5"
  }
 },
 "nbformat": 4,
 "nbformat_minor": 2
}
